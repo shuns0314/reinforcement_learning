{
 "cells": [
  {
   "cell_type": "code",
   "execution_count": null,
   "metadata": {},
   "outputs": [],
   "source": [
    "import numpy as np\n",
    "import matplotlib.pyplot as plt\n",
    "%matplotlib inline"
   ]
  },
  {
   "cell_type": "code",
   "execution_count": null,
   "metadata": {},
   "outputs": [],
   "source": [
    "fig = plt.figure(figsize=(5,5))\n",
    "ax = plt.gca()\n",
    "\n",
    "plt.plot([1,1], [0,1], color='red', linewidth=2)\n",
    "plt.plot([1,2], [2,2], color='red', linewidth=2)\n",
    "plt.plot([2,2], [2,1], color='red', linewidth=2)\n",
    "plt.plot([2,3], [1,1], color='red', linewidth=2)\n",
    "\n",
    "plt.text(0.5, 2.5, 'S0', size=14, ha='center')\n",
    "plt.text(1.5, 2.5, 'S1', size=14, ha='center')\n",
    "plt.text(2.5, 2.5, 'S2', size=14, ha='center')\n",
    "plt.text(0.5, 1.5, 'S3', size=14, ha='center')\n",
    "plt.text(1.5, 1.5, 'S4', size=14, ha='center')\n",
    "plt.text(2.5, 1.5, 'S5', size=14, ha='center')\n",
    "plt.text(0.5, 0.5, 'S6', size=14, ha='center')\n",
    "plt.text(1.5, 0.5, 'S7', size=14, ha='center')\n",
    "plt.text(2.5, 0.5, 'S8', size=14, ha='center')\n",
    "plt.text(0.5, 2.3, 'START', size=14, ha='center')\n",
    "plt.text(2.5, 0.3, 'GOAL', size=14, ha='center')\n",
    "\n",
    "ax.set_xlim(0,3)\n",
    "ax.set_ylim(0,3)\n",
    "plt.tick_params(axis='both', which='both', bottom='off', top='off',\n",
    "                labelbottom='off', right='off', left='off', labelleft='off')\n",
    "\n",
    "line, = ax.plot([0.5], [2.5], marker='o', color='g', markersize=60)"
   ]
  },
  {
   "cell_type": "code",
   "execution_count": null,
   "metadata": {},
   "outputs": [],
   "source": [
    "theta_0 = np.array([\n",
    "    [np.nan, 1, 1, np.nan],\n",
    "    [np.nan, 1, np.nan, 1],\n",
    "    [np.nan, np.nan, 1, 1],\n",
    "    [1, 1, 1, np.nan],\n",
    "    [np.nan, np.nan, 1, 1],\n",
    "    [1, np.nan, np.nan, np.nan],\n",
    "    [1, np.nan, np.nan, np.nan],\n",
    "    [1, 1, np.nan, np.nan]\n",
    "])"
   ]
  },
  {
   "cell_type": "code",
   "execution_count": null,
   "metadata": {},
   "outputs": [],
   "source": [
    "def sinple_convert_into_pi_from_theta(theta):\n",
    "    m, n = theta.shape\n",
    "    pi = np.zeros((m, n))\n",
    "    for i in range(m):\n",
    "        pi[i, :] = theta[i, :] / np.nansum(theta[i, :])\n",
    "    pi = np.nan_to_num(pi)\n",
    "    return pi"
   ]
  },
  {
   "cell_type": "code",
   "execution_count": null,
   "metadata": {},
   "outputs": [],
   "source": [
    "pi_0 = sinple_convert_into_pi_from_theta(theta_0)"
   ]
  },
  {
   "cell_type": "code",
   "execution_count": null,
   "metadata": {},
   "outputs": [],
   "source": [
    "pi_0"
   ]
  },
  {
   "cell_type": "code",
   "execution_count": null,
   "metadata": {},
   "outputs": [],
   "source": [
    "def get_next_s(pi, s):\n",
    "    direction = ['up', 'right', 'down', 'left']\n",
    "    next_direction = np.random.choice(direction, p=pi[s, :])\n",
    "    \n",
    "    if next_direction == 'up':\n",
    "        s_next = s - 3\n",
    "    elif next_direction == 'right':\n",
    "        s_next = s + 1\n",
    "    elif next_direction == 'down':\n",
    "        s_next = s + 3\n",
    "    elif next_direction == 'left':\n",
    "        s_next = s - 1\n",
    "    return s_next"
   ]
  },
  {
   "cell_type": "code",
   "execution_count": null,
   "metadata": {},
   "outputs": [],
   "source": [
    "def goal_maze(pi):\n",
    "    s = 0\n",
    "    state_history = [0]\n",
    "    while True:\n",
    "        next_s = get_next_s(pi, s)\n",
    "        state_history.append(next_s)\n",
    "        if next_s == 8:\n",
    "            break\n",
    "        else:\n",
    "            s = next_s\n",
    "    return state_history"
   ]
  },
  {
   "cell_type": "code",
   "execution_count": null,
   "metadata": {},
   "outputs": [],
   "source": [
    "state_history = goal_maze(pi_0)"
   ]
  },
  {
   "cell_type": "code",
   "execution_count": null,
   "metadata": {},
   "outputs": [],
   "source": [
    "print(state_history)\n",
    "print('step: ', len(state_history) - 1)"
   ]
  },
  {
   "cell_type": "code",
   "execution_count": null,
   "metadata": {},
   "outputs": [],
   "source": [
    "def softmax_convert_into_pi_from_theta(theta):\n",
    "    beta = 1.0\n",
    "    m, n = theta.shape\n",
    "    pi = np.zeros((m, n))\n",
    "    \n",
    "    exp_theta = np.exp(beta * theta)\n",
    "\n",
    "    for i in range(m):\n",
    "        pi[i, :] = exp_theta[i, :] / np.nansum(exp_theta[i, :])\n",
    "\n",
    "    pi = np.nan_to_num(pi)\n",
    "    return pi"
   ]
  },
  {
   "cell_type": "code",
   "execution_count": null,
   "metadata": {},
   "outputs": [],
   "source": [
    "pi_0 = softmax_convert_into_pi_from_theta(theta_0)\n",
    "print(pi_0)"
   ]
  },
  {
   "cell_type": "code",
   "execution_count": null,
   "metadata": {},
   "outputs": [],
   "source": [
    "def get_action_and_next_s(pi, s):\n",
    "    direction = ['up', 'right', 'down', 'left']\n",
    "    next_direction = np.random.choice(direction, p=pi[s, :])\n",
    "    \n",
    "    if next_direction == 'up':\n",
    "        action = 0\n",
    "        s_next = s - 3\n",
    "    elif next_direction == 'right':\n",
    "        action = 1\n",
    "        s_next = s + 1\n",
    "    elif next_direction == 'down':\n",
    "        action = 2\n",
    "        s_next = s + 3\n",
    "    elif next_direction == 'left':\n",
    "        action = 3\n",
    "        s_next = s - 1\n",
    "    return action, s_next"
   ]
  },
  {
   "cell_type": "code",
   "execution_count": null,
   "metadata": {},
   "outputs": [],
   "source": [
    "def goal_maze_ret_s_a(pi):\n",
    "    s = 0\n",
    "    s_a_history = [[0, np.nan]]\n",
    "    \n",
    "    while True:\n",
    "        action, next_s = get_action_and_next_s(pi, s)\n",
    "        s_a_history[-1][1] = action\n",
    "        s_a_history.append([next_s, np.nan])\n",
    "        if next_s == 8:\n",
    "            break\n",
    "        else:\n",
    "            s = next_s\n",
    "    return s_a_history"
   ]
  },
  {
   "cell_type": "code",
   "execution_count": null,
   "metadata": {},
   "outputs": [],
   "source": [
    "s_a_hisotry = goal_maze_ret_s_a(pi_0)\n",
    "print(s_a_hisotry)\n",
    "print('step: ', len(s_a_hisotry) - 1)"
   ]
  },
  {
   "cell_type": "code",
   "execution_count": null,
   "metadata": {},
   "outputs": [],
   "source": [
    "def update_theta(theta, pi, s_a_history):\n",
    "    eta = 0.1\n",
    "    T = len(s_a_history) - 1\n",
    "    m, n = theta.shape\n",
    "    delta_theta = theta.copy()\n",
    "    \n",
    "    for i in range(m):\n",
    "        for j in range(n):\n",
    "            if not(np.isnan(theta[i,j])):\n",
    "                SA_i = [SA for SA in s_a_history if SA[0] == i]\n",
    "                SA_ij = [SA for SA in s_a_history if SA == [i, j]]\n",
    "                \n",
    "                N_i = len(SA_i)\n",
    "                N_ij = len(SA_ij)\n",
    "                delta_theta[i, j] = (N_ij - pi[i,j] * N_i) / T\n",
    "    \n",
    "    new_theta = theta + eta * delta_theta\n",
    "    return new_theta"
   ]
  },
  {
   "cell_type": "code",
   "execution_count": null,
   "metadata": {},
   "outputs": [],
   "source": [
    "new_theta = update_theta(theta_0, pi_0, s_a_hisotry)\n",
    "pi = softmax_convert_into_pi_from_theta(new_theta)\n",
    "print(pi)"
   ]
  },
  {
   "cell_type": "code",
   "execution_count": null,
   "metadata": {},
   "outputs": [],
   "source": [
    "stop_epsilon = 10 ** -4\n",
    "theta = theta_0\n",
    "pi = pi_0\n",
    "\n",
    "is_continue = True\n",
    "count = 1\n",
    "while is_continue:\n",
    "    s_a_history = goal_maze_ret_s_a(pi)\n",
    "    new_theta = update_theta(theta, pi, s_a_history)\n",
    "    new_pi = softmax_convert_into_pi_from_theta(new_theta)\n",
    "    print(np.sum(np.abs(new_pi - pi)))\n",
    "    print(\"step:\", len(s_a_history)-1)\n",
    "    \n",
    "    if np.sum(np.abs(new_pi - pi)) < stop_epsilon:\n",
    "        is_continue = False\n",
    "    else:\n",
    "        theta = new_theta\n",
    "        pi = new_pi"
   ]
  },
  {
   "cell_type": "code",
   "execution_count": null,
   "metadata": {},
   "outputs": [],
   "source": [
    "np.set_printoptions(precision=3,suppress=True)\n",
    "print(pi)"
   ]
  },
  {
   "cell_type": "code",
   "execution_count": null,
   "metadata": {},
   "outputs": [],
   "source": [
    "from matplotlib import animation\n",
    "from IPython.display import HTML\n",
    "\n",
    "def init():\n",
    "    line.set_data([],[])\n",
    "    return (line, )\n",
    "\n",
    "def animate(i):\n",
    "    state = state_history[i]\n",
    "    x = (state % 3) + 0.5\n",
    "    y = 2.5 - int(state / 3)\n",
    "    line.set_data(x, y)\n",
    "    return (line, )\n",
    "\n",
    "anim = animation.FuncAnimation(fig, animate, init_func=init, frames=len(state_history), interval=200, repeat=False)\n",
    "HTML(anim.to_jshtml())"
   ]
  },
  {
   "cell_type": "code",
   "execution_count": null,
   "metadata": {},
   "outputs": [],
   "source": [
    "from matplotlib import animation\n",
    "from IPython.display import HTML\n",
    "\n",
    "def init():\n",
    "    line.set_data([],[])\n",
    "    return (line, )\n",
    "\n",
    "def animate(i):\n",
    "    state = s_a_history[i][0]\n",
    "    x = (state % 3) + 0.5\n",
    "    y = 2.5 - int(state / 3)\n",
    "    line.set_data(x, y)\n",
    "    return (line, )\n",
    "\n",
    "anim = animation.FuncAnimation(fig, animate, init_func=init, frames=len(s_a_history), interval=200, repeat=False)\n",
    "HTML(anim.to_jshtml())"
   ]
  }
 ],
 "metadata": {
  "kernelspec": {
   "display_name": "Python 3",
   "language": "python",
   "name": "python3"
  },
  "language_info": {
   "codemirror_mode": {
    "name": "ipython",
    "version": 3
   },
   "file_extension": ".py",
   "mimetype": "text/x-python",
   "name": "python",
   "nbconvert_exporter": "python",
   "pygments_lexer": "ipython3",
   "version": "3.8.7"
  }
 },
 "nbformat": 4,
 "nbformat_minor": 4
}
